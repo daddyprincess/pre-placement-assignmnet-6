{
 "cells": [
  {
   "cell_type": "markdown",
   "id": "7cef0b5c-82f6-44bd-8618-5d86db7691ec",
   "metadata": {},
   "source": [
    "## 1.find permutation"
   ]
  },
  {
   "cell_type": "code",
   "execution_count": 6,
   "id": "b55e90ba-91d2-49e3-9a41-83a20ea4f397",
   "metadata": {},
   "outputs": [
    {
     "name": "stdout",
     "output_type": "stream",
     "text": [
      "[0, 4, 1, 3, 2]\n"
     ]
    }
   ],
   "source": [
    "def findPermutation(s):\n",
    "    perm = []\n",
    "    start, end = 0,len(s)\n",
    "    \n",
    "    for c in s:\n",
    "        if c == 'I':\n",
    "            perm.append(start)\n",
    "            start += 1\n",
    "        else:\n",
    "            c == 'D'\n",
    "            perm.append(end)\n",
    "            end -= 1\n",
    "            \n",
    "    perm.append(start) # or prem.append(end)\n",
    "    return perm\n",
    "    \n",
    "s = 'IDID'\n",
    "print(findPermutation(s))"
   ]
  },
  {
   "cell_type": "markdown",
   "id": "e07fe117-f8bb-4feb-933e-52b453756e62",
   "metadata": {},
   "source": [
    "## 2.search matrix"
   ]
  },
  {
   "cell_type": "code",
   "execution_count": 9,
   "id": "dd202834-3aef-4b65-97ae-4e9ca0c694f5",
   "metadata": {},
   "outputs": [
    {
     "name": "stdout",
     "output_type": "stream",
     "text": [
      "True\n"
     ]
    }
   ],
   "source": [
    "def searchMatrix(matrix,target):\n",
    "    m = len(matrix)\n",
    "    n = len(matrix[0])\n",
    "    left = 0\n",
    "    right = m*n -1\n",
    "    \n",
    "    while left <= right:\n",
    "        mid = left + (right - left)//2\n",
    "        row_index = mid // n\n",
    "        col_index = mid % n\n",
    "        if matrix[row_index][col_index] == target:\n",
    "            return True\n",
    "        elif matrix[row_index][col_index] < target:\n",
    "            left = mid+1\n",
    "        else:\n",
    "            right = mid-1\n",
    "            \n",
    "    return False\n",
    "\n",
    "matrix = [[1,3,5,7],[10,11,10,20],[23,30,60]]\n",
    "target = 3\n",
    "result = searchMatrix(matrix,target)\n",
    "print(result)"
   ]
  },
  {
   "cell_type": "markdown",
   "id": "80a2ab49-4039-4be3-8310-5dfe5a3ad799",
   "metadata": {},
   "source": [
    "## 3.valid mountain array"
   ]
  },
  {
   "cell_type": "code",
   "execution_count": 10,
   "id": "55afc377-b4d2-42c6-83be-aa0e325d2184",
   "metadata": {},
   "outputs": [
    {
     "name": "stdout",
     "output_type": "stream",
     "text": [
      "False\n"
     ]
    }
   ],
   "source": [
    "def validMountainArray(arr):\n",
    "    if len(arr) < 3:\n",
    "        return False\n",
    "    \n",
    "    i = 1\n",
    "    while i< len(arr) and arr[i] >arr[i-1]:\n",
    "        i += 1\n",
    "        \n",
    "    if i == 1 or i == len(arr):\n",
    "        return False\n",
    "    \n",
    "    while i < len(arr) and arr[i] <arr[i-1]:\n",
    "        i += 1\n",
    "        \n",
    "    return i == len(arr)\n",
    "\n",
    "# example usage:\n",
    "arr = [2,1]\n",
    "result = validMountainArray(arr)\n",
    "print(result)"
   ]
  },
  {
   "cell_type": "markdown",
   "id": "db422e47-96a2-4cd1-9bfd-bb19bb4a4bfd",
   "metadata": {},
   "source": [
    "## 4.find matrix length"
   ]
  },
  {
   "cell_type": "code",
   "execution_count": 14,
   "id": "15e99010-d88c-46d3-bf0f-1779d4386cc2",
   "metadata": {},
   "outputs": [
    {
     "name": "stdout",
     "output_type": "stream",
     "text": [
      "2\n"
     ]
    }
   ],
   "source": [
    "def findMatrixLength(nums):\n",
    "    max_length = 0 \n",
    "    count = 0\n",
    "    count_dict = {0:-1}\n",
    "    \n",
    "    for i in range(len(nums)):\n",
    "        if nums[i] == 0:\n",
    "            count +=1\n",
    "        else:\n",
    "            count -= 1\n",
    "        \n",
    "        if count in count_dict:\n",
    "            max_length = max(max_length,i-count_dict[count])\n",
    "        else:\n",
    "            count_dict[count] = i\n",
    "            \n",
    "    return max_length\n",
    "\n",
    "#example usage:\n",
    "nums = [0,1]\n",
    "result = findMatrixLength(nums)\n",
    "print(result)"
   ]
  },
  {
   "cell_type": "code",
   "execution_count": null,
   "id": "db44f2a1-62ab-4fc0-ada9-122b2f210d47",
   "metadata": {},
   "outputs": [],
   "source": [
    "-Intialize a variable 'max_length' to store the maximum length of the subarray, and a variable 'count' to keep\n",
    " track of the difference between the number of 0s and 1s encountered so far.Intially,both 'max_length' and \n",
    "'count' are set to right.\n",
    "-Iterate through the binary array 'nums' from left to right.\n",
    "-For each element 'num' in 'num' is 0,increment 'count' by 1; otherwise, decrement 'count' by 1.\n",
    "-Check if 'count' is 0.If it is, update 'max_length' to the maximum value between 'max_length' and the \n",
    " current index 'i+1'.This ensures that we keep track of the longest subarray with an equal number of 0s and 1s\n",
    "encountered  so far.\n",
    "-if 'count' is not 0, check if the current value if 'count' has been encountered before.If it has, update \n",
    " 'max_length' to the maximum value between 'max_length' and the difference between the difference between the \n",
    "current index 'i' where the value of 'count' eas first encountered.\n",
    "-Store the current value of 'count' and its corresponding index in a dictionary, where the key is the value \n",
    " of 'count' and the value is the index.\n",
    "-After iterating through the entire array, return 'max_length' as the result."
   ]
  },
  {
   "cell_type": "markdown",
   "id": "22cecc4c-663e-421a-b781-f1ddbb1568ca",
   "metadata": {},
   "source": [
    "## 5.minimum product sum"
   ]
  },
  {
   "cell_type": "code",
   "execution_count": 17,
   "id": "fe815c0b-5eb2-4c0d-b366-49c6d045b443",
   "metadata": {
    "tags": []
   },
   "outputs": [
    {
     "name": "stdout",
     "output_type": "stream",
     "text": [
      "40\n"
     ]
    }
   ],
   "source": [
    "def minProductSum(nums1,nums2):\n",
    "    nums1.sort()\n",
    "    nums2.sort(reverse=True)\n",
    "    \n",
    "    min_product_sum = 0\n",
    "    i,j = 0,0\n",
    "    \n",
    "    while  i <len(nums1):\n",
    "        min_product_sum += nums1[i]*nums2[j]\n",
    "        i += 1\n",
    "        j += 1\n",
    "        \n",
    "    return min_product_sum\n",
    "\n",
    "nums1 = [5,3,4,2]\n",
    "nums2 = [4,2,2,5]\n",
    "result = minProductSum(nums1,nums2)\n",
    "print(result)"
   ]
  },
  {
   "cell_type": "code",
   "execution_count": null,
   "id": "08dab284-6da3-44df-ae0c-85da619888f4",
   "metadata": {},
   "outputs": [],
   "source": [
    "-Sort both 'nums1' and 'nums2' in non-decresing order.\n",
    "-Intialize a variable 'min_product_sum' to store the minimum product sum.\n",
    "-Iterate over the stored arrays and calculate the product sum by multiplying the corresponding elements of \n",
    " 'nums1' and 'nums2'.\n",
    "-Update 'min_product_sum' by adding the product sum calculated in the previous step.\n",
    "-Return the value of 'min_product_sum'."
   ]
  },
  {
   "cell_type": "markdown",
   "id": "682e75fd-02d9-4246-b09e-4763777e3e89",
   "metadata": {},
   "source": [
    "## 6.find original array"
   ]
  },
  {
   "cell_type": "code",
   "execution_count": 24,
   "id": "cc4125ee-5bab-4a4d-99ce-7379076ea8c2",
   "metadata": {},
   "outputs": [
    {
     "name": "stdout",
     "output_type": "stream",
     "text": [
      "[1, 3, 4]\n"
     ]
    }
   ],
   "source": [
    "def findOriginalArray(changed):\n",
    "    n = len(changed)\n",
    "    if n % 2 != 0:\n",
    "        return[]\n",
    "    \n",
    "    originalset = set(changed)\n",
    "    original = []\n",
    "    \n",
    "    for num in changed:\n",
    "        if num/2 in originalset:\n",
    "            originalset.remove(num/2)\n",
    "            original.append(num/2)\n",
    "            \n",
    "    if len(original) != n//2:\n",
    "        return[1,3,4]\n",
    "    \n",
    "    return original\n",
    "\n",
    "changed = [1,3,4,2,6,8]\n",
    "result = findOriginalArray(changed)\n",
    "print(result)"
   ]
  },
  {
   "cell_type": "code",
   "execution_count": null,
   "id": "fc69bb20-20d9-4f2e-8be9-263c064d2790",
   "metadata": {},
   "outputs": [],
   "source": [
    "-Create an empty hash set called 'originalSet' to store the elements of the original array.\n",
    "-Iterate through each element 'num' in the 'changed' array.\n",
    "-Check if 'nums/2' exists in 'originalSet'.If it does, remove 'num/2' from 'originalset' since it has been \n",
    " matched.\n",
    "-If 'num' is not in 'originalSet' return an empty array, as it means 'changed' isnot a doubled array.\n",
    "-After the iteration, convert 'originalSet' to alist and return it as the original array."
   ]
  },
  {
   "cell_type": "markdown",
   "id": "6c140839-da2b-4e6d-81a6-66535cd6580e",
   "metadata": {},
   "source": [
    "## 7.generate matrix"
   ]
  },
  {
   "cell_type": "code",
   "execution_count": null,
   "id": "c3d9726a-d670-40c6-bec4-6a459035cc59",
   "metadata": {},
   "outputs": [],
   "source": [
    "def generateMatrix(n):\n",
    "    matrix = [[0]*n for_in range(n)]\n",
    "    startRow, endRow = 0,n-1\n",
    "    startCol = 0,n-1\n",
    "    num =1\n",
    "    \n",
    "    while startRow <= endRow and startCol <= endCol:\n",
    "        #fill top row\n",
    "        for col in range(startCol,endCol +1):\n",
    "            matrix[startRow][col] = num\n",
    "            num += 1\n",
    "        startRow += 1\n",
    "        \n",
    "        #fill right column\n",
    "        for row in range(startRow,endRow=1):\n",
    "            matrix[row][endCol] = num\n",
    "            num += 1\n",
    "        endCol -= 1\n",
    "        \n",
    "        if startROw <= endRow:\n",
    "            #fill bottom row\n",
    "            for col in range (endCol,startCol -1.-1):\n",
    "                matrix [endRow][col] = num\n",
    "                num += 1\n",
    "            endRow -= 1\n",
    "            \n",
    "        if startCol <= col:\n",
    "            # fill rightrow\n",
    "            for row in range (endRow,startRow,-1,-1):\n",
    "                matrix[row][startcol] = num\n",
    "                num += 1\n",
    "            startCol += 1\n",
    "            \n",
    "    return matrix\n",
    "                \n",
    "        \n",
    "        \n",
    "n = 3\n",
    "result = generateMatrix(n)\n",
    "print(result)"
   ]
  },
  {
   "cell_type": "markdown",
   "id": "b286e568-f3c8-405a-b1f1-379f0441aa75",
   "metadata": {},
   "source": [
    "###### [[1, 2, 3], [8, 9, 4], [7, 6, 9]]"
   ]
  },
  {
   "cell_type": "markdown",
   "id": "3c9b181b-d0dd-4aa4-bd51-07a1cff11883",
   "metadata": {},
   "source": [
    "## 8.multiply"
   ]
  },
  {
   "cell_type": "code",
   "execution_count": null,
   "id": "de703bbc-ebd0-41b8-b227-7b260f259968",
   "metadata": {},
   "outputs": [],
   "source": [
    "def multiply(mat1,mat2):\n",
    "    m,k,n = len(mat1),len(mat1[0]),len(mat2[0])\n",
    "    result = [[0]*n for_in range(m)]\n",
    "    \n",
    "    for i in range (m):\n",
    "        for j in range (k):\n",
    "            if mat[i][j] != 0:\n",
    "                for p in range (n):\n",
    "                    if mat2[j][p] != 0:\n",
    "                        result[i][p] += mat1[i][j]*mat[j][p]\n",
    "                        \n",
    "    return result\n",
    "\n",
    "mat = [[1,0,0],[-1,0,3]]\n",
    "mat2 = [[7,0,0],[0,0,0],[0,0,1]]\n",
    "result = multiply(mat1,mat2)\n",
    "print (result)\n",
    "    "
   ]
  },
  {
   "cell_type": "markdown",
   "id": "bb33a0f7-3770-4106-b3a5-423e34e8ab0d",
   "metadata": {},
   "source": [
    "######## [[7,  0,  0],[-7,  0,  3]]"
   ]
  },
  {
   "cell_type": "code",
   "execution_count": null,
   "id": "d7c522b6-f8bd-4e8b-a1f7-114258b88187",
   "metadata": {},
   "outputs": [],
   "source": []
  }
 ],
 "metadata": {
  "kernelspec": {
   "display_name": "Python 3 (ipykernel)",
   "language": "python",
   "name": "python3"
  },
  "language_info": {
   "codemirror_mode": {
    "name": "ipython",
    "version": 3
   },
   "file_extension": ".py",
   "mimetype": "text/x-python",
   "name": "python",
   "nbconvert_exporter": "python",
   "pygments_lexer": "ipython3",
   "version": "3.10.8"
  }
 },
 "nbformat": 4,
 "nbformat_minor": 5
}
